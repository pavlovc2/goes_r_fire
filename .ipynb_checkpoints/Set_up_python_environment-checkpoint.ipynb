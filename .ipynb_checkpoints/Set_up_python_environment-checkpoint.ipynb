{
 "cells": [
  {
   "cell_type": "markdown",
   "metadata": {},
   "source": [
    "# Setting up gdal\n",
    "I want to be able to use GDAL to create a georeferenced data set and then subset based on given coordinates.\n",
    "\n",
    "Steps (Mac):\n",
    "1. Install osgeo following https://tilemill-project.github.io/tilemill/docs/guides/gdal/\n",
    "2. Update ~/.condarc to include -conda-forge as the first channel\n",
    "3. Create an environment using conda: conda create --yes -n geospatial2 python=2.7 gdal\n",
    "4. source activate geospatial2\n",
    "5. conda install netCDF4\n",
    "6. conda install basemap\n",
    "7. python -m ipykernel install --user --name geospatial2 --display-name \"Python2 Geospatial\" (Creates a kernel that will run in geospatial environment)\n",
    "\n",
    "Now you should be able to start a python session (or notebook) that has gdal enabled."
   ]
  },
  {
   "cell_type": "code",
   "execution_count": null,
   "metadata": {
    "collapsed": true
   },
   "outputs": [],
   "source": []
  }
 ],
 "metadata": {
  "kernelspec": {
   "display_name": "Python 2",
   "language": "python",
   "name": "python2"
  },
  "language_info": {
   "codemirror_mode": {
    "name": "ipython",
    "version": 2
   },
   "file_extension": ".py",
   "mimetype": "text/x-python",
   "name": "python",
   "nbconvert_exporter": "python",
   "pygments_lexer": "ipython2",
   "version": "2.7.14"
  }
 },
 "nbformat": 4,
 "nbformat_minor": 2
}
